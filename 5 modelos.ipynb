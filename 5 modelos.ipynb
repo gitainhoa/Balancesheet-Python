{
 "cells": [
  {
   "cell_type": "code",
   "execution_count": 1,
   "metadata": {
    "collapsed": false
   },
   "outputs": [],
   "source": [
    "import pandas as pd\n",
    "import numpy as np\n",
    "import scipy.stats\n",
    "import statsmodels.api as sm\n",
    "import requests\n",
    "import os.path\n",
    "import time\n",
    "import random\n",
    "import re\n",
    "import math\n",
    "import sklearn\n",
    "\n",
    "\n",
    "from sklearn import metrics\n",
    "from sklearn.decomposition import PCA\n",
    "from sklearn.ensemble import RandomForestRegressor"
   ]
  },
  {
   "cell_type": "code",
   "execution_count": 2,
   "metadata": {
    "collapsed": false
   },
   "outputs": [
    {
     "name": "stdout",
     "output_type": "stream",
     "text": [
      "DOWLOADING FILE EX2_DATA_BASE.xlsx FROM DROPBOX BECAUSE LOCAL FILE DOES NOT EXIST!\n"
     ]
    }
   ],
   "source": [
    "#DOWLOADING FILE FROM DROPBOX FIRST TIME\n",
    "\n",
    "while not os.path.exists('EX2_DATA_BASE.xlsx'):\n",
    "    time.sleep (3*random.random()); #Sleeping less than 3 seconds before going to Dropbox - avoid too many students at once.\n",
    "    if not os.path.exists('EX2_DATA_BASE.xlsx'):\n",
    "        print \"DOWLOADING FILE EX2_DATA_BASE.xlsx FROM DROPBOX BECAUSE LOCAL FILE DOES NOT EXIST!\"\n",
    "\n",
    "        #        csvfile = urllib2.urlopen(\"https://dl.dropboxusercontent.com/u/28535341/EX2_DEV_DATA.xlsx\")\n",
    "        resp = requests.get(\"https://dl.dropboxusercontent.com/u/28535341/EX2_DATA_BASE.xlsx\")        \n",
    "        output = open('EX2_DATA_BASE.xlsx','wb')\n",
    "        output.write(resp.content)\n",
    "        output.close()\n",
    "#DOWLOADING FILE FROM DROPBOX FIRST TIME"
   ]
  },
  {
   "cell_type": "code",
   "execution_count": 3,
   "metadata": {
    "collapsed": false
   },
   "outputs": [
    {
     "name": "stdout",
     "output_type": "stream",
     "text": [
      "LOADING DATASETS...\n"
     ]
    }
   ],
   "source": [
    "print \"LOADING DATASETS...\"\n",
    "\n",
    "df = pd.read_excel(open('EX2_DATA_BASE.xlsx','rb'), sheetname='DATA')\n",
    "df_dictionary = pd.read_excel(open('EX2_DATA_BASE.xlsx','rb'), sheetname='DICTIONARY')"
   ]
  },
  {
   "cell_type": "code",
   "execution_count": 4,
   "metadata": {
    "collapsed": false
   },
   "outputs": [
    {
     "name": "stdout",
     "output_type": "stream",
     "text": [
      "GETTING LIST OF VARIABLES...\n"
     ]
    }
   ],
   "source": [
    "print \"GETTING LIST OF VARIABLES...\"\n",
    "\n",
    "target_variable = str(df_dictionary[df_dictionary['TYPE_OF_VARIABLE'] == 'TARGET']['FIELD_NAME'].tolist()[0])\n",
    "\n",
    "list_of_inputs_for_model0 = df_dictionary[df_dictionary['TYPE_OF_VARIABLE'] == 'INPUT0']['FIELD_NAME'].tolist()\n",
    "\n",
    "list_of_inputs_for_model1 = df_dictionary[(df_dictionary['TYPE_OF_VARIABLE'] == 'INPUT0') | (df_dictionary['TYPE_OF_VARIABLE'] == 'INPUT1')]['FIELD_NAME'].tolist()\n",
    "\n",
    "list_of_inputs_for_model2 = df_dictionary[(df_dictionary['TYPE_OF_VARIABLE'] == 'INPUT0') | (df_dictionary['TYPE_OF_VARIABLE'] == 'INPUT1')| (df_dictionary['TYPE_OF_VARIABLE'] == 'INPUT2')]['FIELD_NAME'].tolist()\n",
    "\n",
    "list_of_inputs_for_model3 = df_dictionary[(df_dictionary['TYPE_OF_VARIABLE'] == 'INPUT0') | (df_dictionary['TYPE_OF_VARIABLE'] == 'INPUT1')| (df_dictionary['TYPE_OF_VARIABLE'] == 'INPUT2')| (df_dictionary['TYPE_OF_VARIABLE'] == 'INPUT3')]['FIELD_NAME'].tolist()\n",
    "\n",
    "list_of_inputs_for_model4 = df_dictionary[(df_dictionary['TYPE_OF_VARIABLE'] == 'INPUT0') | (df_dictionary['TYPE_OF_VARIABLE'] == 'INPUT1')| (df_dictionary['TYPE_OF_VARIABLE'] == 'INPUT2')| (df_dictionary['TYPE_OF_VARIABLE'] == 'INPUT3')| (df_dictionary['TYPE_OF_VARIABLE'] == 'INPUT4')]['FIELD_NAME'].tolist()"
   ]
  },
  {
   "cell_type": "code",
   "execution_count": 5,
   "metadata": {
    "collapsed": true
   },
   "outputs": [],
   "source": [
    "list_continuous_PD=[col for col in list(df) if (col.startswith('BB_1YR_DEFAULT_PROB'))]"
   ]
  },
  {
   "cell_type": "code",
   "execution_count": 6,
   "metadata": {
    "collapsed": false
   },
   "outputs": [],
   "source": [
    "# Se incluyen solo las variables continuas\n",
    "\n",
    "list_of_inputs_for_model0 = [ v for v in list_of_inputs_for_model0 if not (v.startswith('BEST_') |v.startswith('CUR_')\n",
    "                                                                           |v.startswith('NAME')\n",
    "                                                                           |v.startswith('INDUSTRY_')\n",
    "                                                                           |v.startswith('TICKER'))]\n",
    "\n",
    "list_of_inputs_for_model1 = [ v for v in list_of_inputs_for_model1 if not (v.startswith('BEST_') |v.startswith('CUR_')\n",
    "                                                                           |v.startswith('NAME')\n",
    "                                                                           |v.startswith('INDUSTRY_')\n",
    "                                                                           |v.startswith('TICKER'))]\n",
    "list_of_inputs_for_model2 = [ v for v in list_of_inputs_for_model2 if not (v.startswith('BEST_') |v.startswith('CUR_')\n",
    "                                                                           |v.startswith('NAME')\n",
    "                                                                           |v.startswith('INDUSTRY_')\n",
    "                                                                           |v.startswith('TICKER'))]\n",
    "list_of_inputs_for_model3 = [ v for v in list_of_inputs_for_model3 if not (v.startswith('BEST_') |v.startswith('CUR_')\n",
    "                                                                           |v.startswith('NAME')\n",
    "                                                                           |v.startswith('INDUSTRY_')\n",
    "                                                                           |v.startswith('TICKER'))]\n",
    "list_of_inputs_for_model4 = [ v for v in list_of_inputs_for_model4 if not (v.startswith('BEST_') |v.startswith('CUR_')\n",
    "                                                                           |v.startswith('NAME')\n",
    "                                                                           |v.startswith('INDUSTRY_')\n",
    "                                                                           |v.startswith('TICKER'))]"
   ]
  },
  {
   "cell_type": "code",
   "execution_count": 7,
   "metadata": {
    "collapsed": false
   },
   "outputs": [
    {
     "data": {
      "text/plain": [
       "(116, 315)"
      ]
     },
     "execution_count": 7,
     "metadata": {},
     "output_type": "execute_result"
    }
   ],
   "source": [
    "df.shape #N<p"
   ]
  },
  {
   "cell_type": "code",
   "execution_count": 39,
   "metadata": {
    "collapsed": true
   },
   "outputs": [],
   "source": [
    "# En este punto si tuviéramos un gran número de observaciones, separaríamos entre train y test."
   ]
  },
  {
   "cell_type": "code",
   "execution_count": 8,
   "metadata": {
    "collapsed": false
   },
   "outputs": [],
   "source": [
    "# Comprobar que la Target está informada y en el rango (0,1)\n",
    "df = df[(df[target_variable].between(0,1))] "
   ]
  },
  {
   "cell_type": "code",
   "execution_count": 9,
   "metadata": {
    "collapsed": false
   },
   "outputs": [],
   "source": [
    "# Variable target y variable ID\n",
    "target_variable='BB_1YR_DEFAULT_PROB_CQ4_2015'\n",
    "identifier = 'TICKER'"
   ]
  },
  {
   "cell_type": "code",
   "execution_count": 10,
   "metadata": {
    "collapsed": false
   },
   "outputs": [
    {
     "data": {
      "text/plain": [
       "(111, 315)"
      ]
     },
     "execution_count": 10,
     "metadata": {},
     "output_type": "execute_result"
    }
   ],
   "source": [
    "df.shape"
   ]
  },
  {
   "cell_type": "code",
   "execution_count": 11,
   "metadata": {
    "collapsed": false
   },
   "outputs": [],
   "source": [
    "# Tratamiento de missing value. Todas las variables son continuas por lo que se utilizn las medias.\n",
    "# En el TFM habría que proceder a identificar en tipo de variables como en la práctica 1 de Gadi.\n",
    "# Se procede a imputar valores sin estudiar si existen patrones. \n",
    "for var in df.columns:\n",
    "    if (var in list_of_inputs_for_model4):\n",
    "        missing=df[var].mean()\n",
    "        df.loc[df[var].isnull(), var]=missing"
   ]
  },
  {
   "cell_type": "code",
   "execution_count": 12,
   "metadata": {
    "collapsed": false
   },
   "outputs": [],
   "source": [
    "# Tratamiento de \"super outliers\" \n",
    "# Se van a detectar a nivel univariante.  Un análisis más elaborado llevaría a la aplicación de técnicas multivariante. \n",
    "# 1. ¿Cómo se identifican? Criterio muy poco restrictivo si limpiamos a nivel univariante para no quedarnos sin observaciones. Optamos por un criterio simple y limpieza univariante.\n",
    "# 2. Se sustituyen por el valor medio\n",
    "\n",
    "# Outlier detection in very small sets, alternativamente MAD (mejorar para el TFM):\n",
    "for var in df.columns:\n",
    "    if (var in list_of_inputs_for_model4):\n",
    "        media = df[var].mean()\n",
    "        stdev= df[var].std()\n",
    "        df.loc[abs(df[var] -media) > 3*stdev, var] = media            "
   ]
  },
  {
   "cell_type": "code",
   "execution_count": 13,
   "metadata": {
    "collapsed": true
   },
   "outputs": [],
   "source": [
    "# Construcción de ratios multiples limitado a: \n",
    "# 1. División entre todas las partidas del modelo del mismo año\n",
    "# 2. Tasas de crecimiento de los ratios"
   ]
  },
  {
   "cell_type": "code",
   "execution_count": 118,
   "metadata": {
    "collapsed": true
   },
   "outputs": [],
   "source": [
    "### Modelo 0####"
   ]
  },
  {
   "cell_type": "code",
   "execution_count": 13,
   "metadata": {
    "collapsed": false
   },
   "outputs": [],
   "source": [
    "# Eliminar la target y el ID\n",
    "dfid  = df [identifier]\n",
    "dftarget = df[target_variable]\n",
    "\n",
    "df.drop([identifier, target_variable], axis=1, inplace=True)\n",
    "list0ratios = [x for x in list_of_inputs_for_model0 if x not in list_continuous_PD]\n",
    "\n",
    "# Restringir el dataframe a las columnas contenidas en la lista\n",
    "df_modelo0 = df[list_of_inputs_for_model0]"
   ]
  },
  {
   "cell_type": "code",
   "execution_count": 14,
   "metadata": {
    "collapsed": false
   },
   "outputs": [
    {
     "name": "stderr",
     "output_type": "stream",
     "text": [
      "C:\\Users\\ico795\\AppData\\Local\\Continuum\\Anaconda2\\lib\\site-packages\\ipykernel\\__main__.py:9: SettingWithCopyWarning: \n",
      "A value is trying to be set on a copy of a slice from a DataFrame.\n",
      "Try using .loc[row_indexer,col_indexer] = value instead\n",
      "\n",
      "See the caveats in the documentation: http://pandas.pydata.org/pandas-docs/stable/indexing.html#indexing-view-versus-copy\n"
     ]
    }
   ],
   "source": [
    "lenls=len(df_modelo0.columns)\n",
    "\n",
    "for i in range(0, lenls):\n",
    "    v_1=df_modelo0.columns[i]\n",
    "    for j in range(i+1, lenls):\n",
    "        v_2=df_modelo0.columns[j]\n",
    "        if(v_1 in list0ratios and v_2 in list0ratios):\n",
    "            ratio='r_div'+v_1+v_2\n",
    "            df_modelo0[ratio]=np.where(df_modelo0[v_2]==0,0,(df_modelo0[v_1]/df_modelo0[v_2]))\n",
    "            list_of_inputs_for_model0.append(ratio)"
   ]
  },
  {
   "cell_type": "code",
   "execution_count": 17,
   "metadata": {
    "collapsed": false
   },
   "outputs": [],
   "source": [
    "# Reemplazamos todos los NaN por la mediana de la columna por ser ratios (las obseervacione soriginales se habían sustituido por la media)\n",
    "\n",
    "df_modelo0= df_modelo0.replace([np.inf,-np.inf],0)  # Repasar si se sustituye por la media. \n",
    "#df = df.apply(lambda x: x.fillna(x.median()),axis=0)"
   ]
  },
  {
   "cell_type": "code",
   "execution_count": 15,
   "metadata": {
    "collapsed": false
   },
   "outputs": [],
   "source": [
    "# Escalar las variables para aplicación de PCA\n",
    "for var in df_modelo0.columns:\n",
    "    if(var in list_of_inputs_for_model0):\n",
    "        media=df_modelo0[var].mean()\n",
    "        stdev=df_modelo0[var].std()\n",
    "        \n",
    "        df_modelo0[var]=(df_modelo0[var]-media) /stdev"
   ]
  },
  {
   "cell_type": "code",
   "execution_count": 16,
   "metadata": {
    "collapsed": false
   },
   "outputs": [],
   "source": [
    "# Realizadas todas las transformaciones, restringimos el df a ratios y PD para aplicar PCA\n",
    "\n",
    "list_of_inputs_for_model0 = [ v for v in list_of_inputs_for_model0 if  (v.startswith('r') |v.startswith('BB_1YR_DEFAULT_PROB'))]"
   ]
  },
  {
   "cell_type": "code",
   "execution_count": 206,
   "metadata": {
    "collapsed": true
   },
   "outputs": [],
   "source": [
    "# Habría que hacer un split en train y test en este punto"
   ]
  },
  {
   "cell_type": "code",
   "execution_count": 17,
   "metadata": {
    "collapsed": false
   },
   "outputs": [
    {
     "data": {
      "text/plain": [
       "(111, 9875)"
      ]
     },
     "execution_count": 17,
     "metadata": {},
     "output_type": "execute_result"
    }
   ],
   "source": [
    "df_modelo0.shape"
   ]
  },
  {
   "cell_type": "code",
   "execution_count": 18,
   "metadata": {
    "collapsed": false
   },
   "outputs": [],
   "source": [
    "pca=PCA(n_components=len(df_modelo0))"
   ]
  },
  {
   "cell_type": "code",
   "execution_count": 19,
   "metadata": {
    "collapsed": false
   },
   "outputs": [],
   "source": [
    "df_pca=pca.fit_transform(df_modelo0)"
   ]
  },
  {
   "cell_type": "code",
   "execution_count": 20,
   "metadata": {
    "collapsed": false
   },
   "outputs": [],
   "source": [
    "df_pca0=pd.DataFrame(data=df_pca[::])"
   ]
  },
  {
   "cell_type": "code",
   "execution_count": 21,
   "metadata": {
    "collapsed": false
   },
   "outputs": [
    {
     "data": {
      "text/plain": [
       "(111, 111)"
      ]
     },
     "execution_count": 21,
     "metadata": {},
     "output_type": "execute_result"
    }
   ],
   "source": [
    "df_pca0.shape"
   ]
  },
  {
   "cell_type": "code",
   "execution_count": 22,
   "metadata": {
    "collapsed": false
   },
   "outputs": [],
   "source": [
    "####### Modelo 0#######\n",
    "try:\n",
    "    rf = RandomForestRegressor()\n",
    "    rf.fit(df_pca0, dftarget)\n",
    "    result=rf.fit(df_pca0, dftarget)\n",
    "    y_pred = result.predict(df_pca0)\n",
    "except np.linalg.linalg.LinAlgError as err:\n",
    "    if 'Singular matrix' in err.message:\n",
    "        print \"MODEL-INVALID (Singular Matrix)\"\n",
    "    else:\n",
    "        raise"
   ]
  },
  {
   "cell_type": "code",
   "execution_count": 23,
   "metadata": {
    "collapsed": false
   },
   "outputs": [
    {
     "name": "stdout",
     "output_type": "stream",
     "text": [
      "ASSESSING THE MODEL...\n",
      "Spearman Rank Correlation =  SpearmanrResult(correlation=0.6997542997542997, pvalue=1.2936820967309228e-17)\n"
     ]
    }
   ],
   "source": [
    "print \"ASSESSING THE MODEL...\"\n",
    "\n",
    "# CALCULATING PERFORMANCE ON DEVELOPMENT SAMPLE\n",
    "from scipy.stats import spearmanr\n",
    "spearman_correlation= spearmanr(dftarget, y_pred)\n",
    "print \"Spearman Rank Correlation = \", spearman_correlation"
   ]
  },
  {
   "cell_type": "code",
   "execution_count": 24,
   "metadata": {
    "collapsed": true
   },
   "outputs": [],
   "source": [
    "### Modelo 1####"
   ]
  },
  {
   "cell_type": "code",
   "execution_count": 25,
   "metadata": {
    "collapsed": false
   },
   "outputs": [],
   "source": [
    "# Lista de variables para el cálculo de ratios\n",
    "list1ratios = [x for x in list_of_inputs_for_model1 if x not in list_continuous_PD]"
   ]
  },
  {
   "cell_type": "code",
   "execution_count": 27,
   "metadata": {
    "collapsed": false
   },
   "outputs": [],
   "source": [
    "df_modelo1 = df[list_of_inputs_for_model1]"
   ]
  },
  {
   "cell_type": "code",
   "execution_count": 28,
   "metadata": {
    "collapsed": false
   },
   "outputs": [
    {
     "name": "stderr",
     "output_type": "stream",
     "text": [
      "C:\\Users\\ico795\\AppData\\Local\\Continuum\\Anaconda2\\lib\\site-packages\\ipykernel\\__main__.py:9: SettingWithCopyWarning: \n",
      "A value is trying to be set on a copy of a slice from a DataFrame.\n",
      "Try using .loc[row_indexer,col_indexer] = value instead\n",
      "\n",
      "See the caveats in the documentation: http://pandas.pydata.org/pandas-docs/stable/indexing.html#indexing-view-versus-copy\n"
     ]
    }
   ],
   "source": [
    "lenls=len(df_modelo1.columns)\n",
    "\n",
    "for i in range(0, lenls):\n",
    "    v_1=df_modelo1.columns[i]\n",
    "    for j in range(i+1, lenls):\n",
    "        v_2=df_modelo1.columns[j]\n",
    "        if(v_1 in list1ratios and v_2 in list1ratios):\n",
    "            ratio='r_div'+v_1+v_2\n",
    "            df_modelo1[ratio]=np.where(df_modelo1[v_2]==0,0,(df_modelo1[v_1]/df_modelo1[v_2]))\n",
    "            list_of_inputs_for_model1.append(ratio)"
   ]
  },
  {
   "cell_type": "code",
   "execution_count": 29,
   "metadata": {
    "collapsed": false
   },
   "outputs": [],
   "source": [
    "df_modelo1= df_modelo1.replace([np.inf,-np.inf],0)"
   ]
  },
  {
   "cell_type": "code",
   "execution_count": 30,
   "metadata": {
    "collapsed": true
   },
   "outputs": [],
   "source": [
    "for var in df_modelo1.columns:\n",
    "    if(var in list_of_inputs_for_model1):\n",
    "        media=df_modelo1[var].mean()\n",
    "        stdev=df_modelo1[var].std()\n",
    "        df_modelo1[var]=(df_modelo1[var]-media) /stdev"
   ]
  },
  {
   "cell_type": "code",
   "execution_count": 31,
   "metadata": {
    "collapsed": true
   },
   "outputs": [],
   "source": [
    "list_of_inputs_for_model1 = [ v for v in list_of_inputs_for_model1 if  (v.startswith('r') |v.startswith('BB_1YR_DEFAULT_PROB'))]"
   ]
  },
  {
   "cell_type": "code",
   "execution_count": 32,
   "metadata": {
    "collapsed": false
   },
   "outputs": [
    {
     "data": {
      "text/plain": [
       "(111, 13536)"
      ]
     },
     "execution_count": 32,
     "metadata": {},
     "output_type": "execute_result"
    }
   ],
   "source": [
    "df_modelo1.shape"
   ]
  },
  {
   "cell_type": "code",
   "execution_count": 35,
   "metadata": {
    "collapsed": false
   },
   "outputs": [],
   "source": [
    "pca=PCA(n_components=len(df_modelo1))"
   ]
  },
  {
   "cell_type": "code",
   "execution_count": 36,
   "metadata": {
    "collapsed": true
   },
   "outputs": [],
   "source": [
    "df_pca=pca.fit_transform(df_modelo1)"
   ]
  },
  {
   "cell_type": "code",
   "execution_count": 41,
   "metadata": {
    "collapsed": false
   },
   "outputs": [],
   "source": [
    "df_pca1=pd.DataFrame(data=df_pca[::])"
   ]
  },
  {
   "cell_type": "code",
   "execution_count": 42,
   "metadata": {
    "collapsed": false
   },
   "outputs": [
    {
     "data": {
      "text/plain": [
       "(111, 111)"
      ]
     },
     "execution_count": 42,
     "metadata": {},
     "output_type": "execute_result"
    }
   ],
   "source": [
    "df_pca1.shape"
   ]
  },
  {
   "cell_type": "code",
   "execution_count": 43,
   "metadata": {
    "collapsed": true
   },
   "outputs": [],
   "source": [
    "####### Modelo 1#######\n",
    "try:\n",
    "    rf = RandomForestRegressor()\n",
    "    rf.fit(df_pca1, dftarget)\n",
    "    result=rf.fit(df_pca1, dftarget)\n",
    "    y_pred = result.predict(df_pca1)\n",
    "except np.linalg.linalg.LinAlgError as err:\n",
    "    if 'Singular matrix' in err.message:\n",
    "        print \"MODEL-INVALID (Singular Matrix)\"\n",
    "    else:\n",
    "        raise"
   ]
  },
  {
   "cell_type": "code",
   "execution_count": 44,
   "metadata": {
    "collapsed": false
   },
   "outputs": [
    {
     "name": "stdout",
     "output_type": "stream",
     "text": [
      "ASSESSING THE MODEL...\n",
      "Spearman Rank Correlation =  SpearmanrResult(correlation=0.78529308529308517, pvalue=1.9434671003796363e-24)\n"
     ]
    }
   ],
   "source": [
    "print \"ASSESSING THE MODEL...\"\n",
    "\n",
    "# CALCULATING PERFORMANCE ON DEVELOPMENT SAMPLE\n",
    "from scipy.stats import spearmanr\n",
    "spearman_correlation= spearmanr(dftarget, y_pred)\n",
    "print \"Spearman Rank Correlation = \", spearman_correlation"
   ]
  },
  {
   "cell_type": "code",
   "execution_count": 45,
   "metadata": {
    "collapsed": true
   },
   "outputs": [],
   "source": [
    "### Modelo 2####"
   ]
  },
  {
   "cell_type": "code",
   "execution_count": 46,
   "metadata": {
    "collapsed": false
   },
   "outputs": [],
   "source": [
    "# Eliminar la target y el ID\n",
    "list2ratios = [x for x in list_of_inputs_for_model2 if x not in list_continuous_PD]\n",
    "\n",
    "# Restringir el dataframe a las columnas contenidas en la lista\n",
    "df_modelo2 = df[list_of_inputs_for_model2]"
   ]
  },
  {
   "cell_type": "code",
   "execution_count": 47,
   "metadata": {
    "collapsed": false
   },
   "outputs": [
    {
     "name": "stderr",
     "output_type": "stream",
     "text": [
      "C:\\Users\\ico795\\AppData\\Local\\Continuum\\Anaconda2\\lib\\site-packages\\ipykernel\\__main__.py:9: SettingWithCopyWarning: \n",
      "A value is trying to be set on a copy of a slice from a DataFrame.\n",
      "Try using .loc[row_indexer,col_indexer] = value instead\n",
      "\n",
      "See the caveats in the documentation: http://pandas.pydata.org/pandas-docs/stable/indexing.html#indexing-view-versus-copy\n"
     ]
    }
   ],
   "source": [
    "lenls=len(df_modelo2.columns)\n",
    "\n",
    "for i in range(0, lenls):\n",
    "    v_1=df_modelo2.columns[i]\n",
    "    for j in range(i+1, lenls):\n",
    "        v_2=df_modelo2.columns[j]\n",
    "        if(v_1 in list2ratios and v_2 in list2ratios):\n",
    "            ratio='r_div'+v_1+v_2\n",
    "            df_modelo2[ratio]=np.where(df_modelo2[v_2]==0,0,(df_modelo2[v_1]/df_modelo2[v_2]))\n",
    "            list_of_inputs_for_model2.append(ratio)\n",
    "            "
   ]
  },
  {
   "cell_type": "code",
   "execution_count": 48,
   "metadata": {
    "collapsed": false
   },
   "outputs": [],
   "source": [
    "# Reemplazamos todos los NaN por la mediana de la columna por ser ratios (las obseervacione soriginales se habían sustituido por la media)\n",
    "\n",
    "df_modelo2= df_modelo2.replace([np.inf,-np.inf],0)  # Repasar si se sustituye por la media. \n",
    "#df = df.apply(lambda x: x.fillna(x.median()),axis=0)"
   ]
  },
  {
   "cell_type": "code",
   "execution_count": 49,
   "metadata": {
    "collapsed": false
   },
   "outputs": [],
   "source": [
    "# Escalar las variables para aplicación de PCA\n",
    "for var in df_modelo2.columns:\n",
    "    if(var in list_of_inputs_for_model2):\n",
    "        media=df_modelo2[var].mean()\n",
    "        stdev=df_modelo2[var].std()\n",
    "        \n",
    "        df_modelo2[var]=(df_modelo2[var]-media) /stdev"
   ]
  },
  {
   "cell_type": "code",
   "execution_count": 50,
   "metadata": {
    "collapsed": false
   },
   "outputs": [],
   "source": [
    "# Realizadas todas las transformaciones, restringimos el df a ratios y PD para aplicar PCA\n",
    "\n",
    "list_of_inputs_for_model2 = [ v for v in list_of_inputs_for_model2 if  (v.startswith('r') |v.startswith('BB_1YR_DEFAULT_PROB'))]"
   ]
  },
  {
   "cell_type": "code",
   "execution_count": 51,
   "metadata": {
    "collapsed": false
   },
   "outputs": [
    {
     "data": {
      "text/plain": [
       "(111, 17773)"
      ]
     },
     "execution_count": 51,
     "metadata": {},
     "output_type": "execute_result"
    }
   ],
   "source": [
    "df_modelo2.shape"
   ]
  },
  {
   "cell_type": "code",
   "execution_count": 52,
   "metadata": {
    "collapsed": false
   },
   "outputs": [],
   "source": [
    "pca=PCA(n_components=len(df_modelo2))"
   ]
  },
  {
   "cell_type": "code",
   "execution_count": 53,
   "metadata": {
    "collapsed": false
   },
   "outputs": [],
   "source": [
    "df_pca=pca.fit_transform(df_modelo2)"
   ]
  },
  {
   "cell_type": "code",
   "execution_count": 54,
   "metadata": {
    "collapsed": false
   },
   "outputs": [],
   "source": [
    "df_pca2=pd.DataFrame(data=df_pca[::])"
   ]
  },
  {
   "cell_type": "code",
   "execution_count": 55,
   "metadata": {
    "collapsed": false
   },
   "outputs": [
    {
     "data": {
      "text/plain": [
       "(111, 111)"
      ]
     },
     "execution_count": 55,
     "metadata": {},
     "output_type": "execute_result"
    }
   ],
   "source": [
    "df_pca2.shape"
   ]
  },
  {
   "cell_type": "code",
   "execution_count": 56,
   "metadata": {
    "collapsed": false
   },
   "outputs": [],
   "source": [
    "####### Modelo 2#######\n",
    "try:\n",
    "    rf = RandomForestRegressor()\n",
    "    rf.fit(df_pca2, dftarget)\n",
    "    result=rf.fit(df_pca2, dftarget)\n",
    "    y_pred = result.predict(df_pca2)\n",
    "except np.linalg.linalg.LinAlgError as err:\n",
    "    if 'Singular matrix' in err.message:\n",
    "        print \"MODEL-INVALID (Singular Matrix)\"\n",
    "    else:\n",
    "        raise"
   ]
  },
  {
   "cell_type": "code",
   "execution_count": 57,
   "metadata": {
    "collapsed": false
   },
   "outputs": [
    {
     "name": "stdout",
     "output_type": "stream",
     "text": [
      "ASSESSING THE MODEL...\n",
      "Spearman Rank Correlation =  SpearmanrResult(correlation=0.78886451386451384, pvalue=8.6485402026327006e-25)\n"
     ]
    }
   ],
   "source": [
    "print \"ASSESSING THE MODEL...\"\n",
    "\n",
    "# CALCULATING PERFORMANCE ON DEVELOPMENT SAMPLE\n",
    "from scipy.stats import spearmanr\n",
    "spearman_correlation= spearmanr(dftarget, y_pred)\n",
    "print \"Spearman Rank Correlation = \", spearman_correlation"
   ]
  },
  {
   "cell_type": "code",
   "execution_count": 118,
   "metadata": {
    "collapsed": true
   },
   "outputs": [],
   "source": [
    "### Modelo 3####"
   ]
  },
  {
   "cell_type": "code",
   "execution_count": 58,
   "metadata": {
    "collapsed": false
   },
   "outputs": [],
   "source": [
    "# Eliminar la target y el ID\n",
    "list3ratios = [x for x in list_of_inputs_for_model3 if x not in list_continuous_PD]\n",
    "\n",
    "# Restringir el dataframe a las columnas contenidas en la lista\n",
    "df_modelo3 = df[list_of_inputs_for_model3]"
   ]
  },
  {
   "cell_type": "code",
   "execution_count": 59,
   "metadata": {
    "collapsed": false
   },
   "outputs": [
    {
     "name": "stderr",
     "output_type": "stream",
     "text": [
      "C:\\Users\\ico795\\AppData\\Local\\Continuum\\Anaconda2\\lib\\site-packages\\ipykernel\\__main__.py:9: SettingWithCopyWarning: \n",
      "A value is trying to be set on a copy of a slice from a DataFrame.\n",
      "Try using .loc[row_indexer,col_indexer] = value instead\n",
      "\n",
      "See the caveats in the documentation: http://pandas.pydata.org/pandas-docs/stable/indexing.html#indexing-view-versus-copy\n"
     ]
    }
   ],
   "source": [
    "lenls=len(df_modelo3.columns)\n",
    "\n",
    "for i in range(0, lenls):\n",
    "    v_1=df_modelo3.columns[i]\n",
    "    for j in range(i+1, lenls):\n",
    "        v_2=df_modelo3.columns[j]\n",
    "        if(v_1 in list3ratios and v_2 in list3ratios):\n",
    "            ratio='r_div'+v_1+v_2\n",
    "            df_modelo3[ratio]=np.where(df_modelo3[v_2]==0,0,(df_modelo3[v_1]/df_modelo3[v_2]))\n",
    "            list_of_inputs_for_model3.append(ratio)\n",
    "            "
   ]
  },
  {
   "cell_type": "code",
   "execution_count": 60,
   "metadata": {
    "collapsed": false
   },
   "outputs": [],
   "source": [
    "# Reemplazamos todos los NaN por la mediana de la columna por ser ratios (las obseervacione soriginales se habían sustituido por la media)\n",
    "\n",
    "df_modelo3= df_modelo3.replace([np.inf,-np.inf],0)  # Repasar si se sustituye por la media. \n",
    "#df = df.apply(lambda x: x.fillna(x.median()),axis=0)"
   ]
  },
  {
   "cell_type": "code",
   "execution_count": 61,
   "metadata": {
    "collapsed": false
   },
   "outputs": [],
   "source": [
    "# Escalar las variables para aplicación de PCA\n",
    "for var in df_modelo3.columns:\n",
    "    if(var in list_of_inputs_for_model3):\n",
    "        media=df_modelo3[var].mean()\n",
    "        stdev=df_modelo3[var].std()\n",
    "        \n",
    "        df_modelo3[var]=(df_modelo3[var]-media) /stdev"
   ]
  },
  {
   "cell_type": "code",
   "execution_count": 64,
   "metadata": {
    "collapsed": false
   },
   "outputs": [],
   "source": [
    "# Realizadas todas las transformaciones, restringimos el df a ratios y PD para aplicar PCA\n",
    "\n",
    "list_of_inputs_for_model3 = [ v for v in list_of_inputs_for_model3 if  (v.startswith('r') |v.startswith('BB_1YR_DEFAULT_PROB'))]"
   ]
  },
  {
   "cell_type": "code",
   "execution_count": 20,
   "metadata": {
    "collapsed": false
   },
   "outputs": [
    {
     "data": {
      "text/plain": [
       "(111, 19605)"
      ]
     },
     "execution_count": 20,
     "metadata": {},
     "output_type": "execute_result"
    }
   ],
   "source": [
    "df_modelo3.shape"
   ]
  },
  {
   "cell_type": "code",
   "execution_count": 65,
   "metadata": {
    "collapsed": false
   },
   "outputs": [],
   "source": [
    "pca=PCA(n_components=len(df_modelo3))"
   ]
  },
  {
   "cell_type": "code",
   "execution_count": 66,
   "metadata": {
    "collapsed": false
   },
   "outputs": [],
   "source": [
    "df_pca=pca.fit_transform(df_modelo3)"
   ]
  },
  {
   "cell_type": "code",
   "execution_count": 67,
   "metadata": {
    "collapsed": false
   },
   "outputs": [],
   "source": [
    "df_pca3=pd.DataFrame(data=df_pca[::])"
   ]
  },
  {
   "cell_type": "code",
   "execution_count": 68,
   "metadata": {
    "collapsed": false
   },
   "outputs": [
    {
     "data": {
      "text/plain": [
       "(111, 111)"
      ]
     },
     "execution_count": 68,
     "metadata": {},
     "output_type": "execute_result"
    }
   ],
   "source": [
    "df_pca3.shape"
   ]
  },
  {
   "cell_type": "code",
   "execution_count": 69,
   "metadata": {
    "collapsed": false
   },
   "outputs": [],
   "source": [
    "####### Modelo 3#######\n",
    "try:\n",
    "    rf = RandomForestRegressor()\n",
    "    rf.fit(df_pca3, dftarget)\n",
    "    result=rf.fit(df_pca3, dftarget)\n",
    "    y_pred = result.predict(df_pca3)\n",
    "except np.linalg.linalg.LinAlgError as err:\n",
    "    if 'Singular matrix' in err.message:\n",
    "        print \"MODEL-INVALID (Singular Matrix)\"\n",
    "    else:\n",
    "        raise"
   ]
  },
  {
   "cell_type": "code",
   "execution_count": 71,
   "metadata": {
    "collapsed": false
   },
   "outputs": [
    {
     "name": "stdout",
     "output_type": "stream",
     "text": [
      "ASSESSING THE MODEL...\n",
      "Spearman Rank Correlation =  SpearmanrResult(correlation=0.75873113373113366, pvalue=5.1167524404165563e-22)\n"
     ]
    }
   ],
   "source": [
    "print \"ASSESSING THE MODEL...\"\n",
    "\n",
    "# CALCULATING PERFORMANCE ON DEVELOPMENT SAMPLE\n",
    "from scipy.stats import spearmanr\n",
    "spearman_correlation= spearmanr(dftarget, y_pred)\n",
    "print \"Spearman Rank Correlation = \", spearman_correlation"
   ]
  },
  {
   "cell_type": "code",
   "execution_count": 118,
   "metadata": {
    "collapsed": true
   },
   "outputs": [],
   "source": [
    "### Modelo 4####"
   ]
  },
  {
   "cell_type": "code",
   "execution_count": 73,
   "metadata": {
    "collapsed": false
   },
   "outputs": [],
   "source": [
    "# Eliminar la target y el ID\n",
    "list4ratios = [x for x in list_of_inputs_for_model4 if x not in list_continuous_PD]\n",
    "\n",
    "# Restringir el dataframe a las columnas contenidas en la lista\n",
    "df_modelo4 = df[list_of_inputs_for_model4]"
   ]
  },
  {
   "cell_type": "code",
   "execution_count": 74,
   "metadata": {
    "collapsed": false
   },
   "outputs": [
    {
     "name": "stderr",
     "output_type": "stream",
     "text": [
      "C:\\Users\\ico795\\AppData\\Local\\Continuum\\Anaconda2\\lib\\site-packages\\ipykernel\\__main__.py:9: SettingWithCopyWarning: \n",
      "A value is trying to be set on a copy of a slice from a DataFrame.\n",
      "Try using .loc[row_indexer,col_indexer] = value instead\n",
      "\n",
      "See the caveats in the documentation: http://pandas.pydata.org/pandas-docs/stable/indexing.html#indexing-view-versus-copy\n"
     ]
    }
   ],
   "source": [
    "lenls=len(df_modelo4.columns)\n",
    "\n",
    "for i in range(0, lenls):\n",
    "    v_1=df_modelo4.columns[i]\n",
    "    for j in range(i+1, lenls):\n",
    "        v_2=df_modelo4.columns[j]\n",
    "        if(v_1 in list4ratios and v_2 in list4ratios):\n",
    "            ratio='r_div'+v_1+v_2\n",
    "            df_modelo4[ratio]=np.where(df_modelo4[v_2]==0,0,(df_modelo4[v_1]/df_modelo4[v_2]))\n",
    "            list_of_inputs_for_model4.append(ratio)\n",
    "            "
   ]
  },
  {
   "cell_type": "code",
   "execution_count": 75,
   "metadata": {
    "collapsed": false
   },
   "outputs": [],
   "source": [
    "# Reemplazamos todos los NaN por la mediana de la columna por ser ratios (las obseervacione soriginales se habían sustituido por la media)\n",
    "\n",
    "df_modelo4= df_modelo4.replace([np.inf,-np.inf],0)  # Repasar si se sustituye por la media. \n",
    "#df = df.apply(lambda x: x.fillna(x.median()),axis=0)"
   ]
  },
  {
   "cell_type": "code",
   "execution_count": 76,
   "metadata": {
    "collapsed": false
   },
   "outputs": [],
   "source": [
    "# Escalar las variables para aplicación de PCA\n",
    "for var in df_modelo4.columns:\n",
    "    if(var in list_of_inputs_for_model4):\n",
    "        media=df_modelo4[var].mean()\n",
    "        stdev=df_modelo4[var].std()\n",
    "        \n",
    "        df_modelo4[var]=(df_modelo4[var]-media) /stdev"
   ]
  },
  {
   "cell_type": "code",
   "execution_count": 77,
   "metadata": {
    "collapsed": false
   },
   "outputs": [],
   "source": [
    "# Realizadas todas las transformaciones, restringimos el df a ratios y PD para aplicar PCA\n",
    "list_of_inputs_for_model4 = [ v for v in list_of_inputs_for_model4 if  (v.startswith('r') |v.startswith('BB_1YR_DEFAULT_PROB'))]"
   ]
  },
  {
   "cell_type": "code",
   "execution_count": 78,
   "metadata": {
    "collapsed": false
   },
   "outputs": [
    {
     "data": {
      "text/plain": [
       "(111, 30389)"
      ]
     },
     "execution_count": 78,
     "metadata": {},
     "output_type": "execute_result"
    }
   ],
   "source": [
    "df_modelo4.shape"
   ]
  },
  {
   "cell_type": "code",
   "execution_count": 79,
   "metadata": {
    "collapsed": false
   },
   "outputs": [],
   "source": [
    "pca=PCA(n_components=len(df_modelo4))"
   ]
  },
  {
   "cell_type": "code",
   "execution_count": 80,
   "metadata": {
    "collapsed": false
   },
   "outputs": [],
   "source": [
    "df_pca=pca.fit_transform(df_modelo4)"
   ]
  },
  {
   "cell_type": "code",
   "execution_count": 81,
   "metadata": {
    "collapsed": false
   },
   "outputs": [],
   "source": [
    "df_pca4=pd.DataFrame(data=df_pca[::])"
   ]
  },
  {
   "cell_type": "code",
   "execution_count": 82,
   "metadata": {
    "collapsed": false
   },
   "outputs": [
    {
     "data": {
      "text/plain": [
       "(111, 111)"
      ]
     },
     "execution_count": 82,
     "metadata": {},
     "output_type": "execute_result"
    }
   ],
   "source": [
    "df_pca4.shape"
   ]
  },
  {
   "cell_type": "code",
   "execution_count": 83,
   "metadata": {
    "collapsed": false
   },
   "outputs": [],
   "source": [
    "####### Modelo 4#######\n",
    "try:\n",
    "    rf = RandomForestRegressor()\n",
    "    rf.fit(df_pca4, dftarget)\n",
    "    result=rf.fit(df_pca4, dftarget)\n",
    "    y_pred = result.predict(df_pca4)\n",
    "except np.linalg.linalg.LinAlgError as err:\n",
    "    if 'Singular matrix' in err.message:\n",
    "        print \"MODEL-INVALID (Singular Matrix)\"\n",
    "    else:\n",
    "        raise"
   ]
  },
  {
   "cell_type": "code",
   "execution_count": 85,
   "metadata": {
    "collapsed": false
   },
   "outputs": [
    {
     "name": "stdout",
     "output_type": "stream",
     "text": [
      "ASSESSING THE MODEL...\n",
      "Spearman Rank Correlation =  SpearmanrResult(correlation=0.82120919620919619, pvalue=2.5605345845928001e-28)\n"
     ]
    }
   ],
   "source": [
    "print \"ASSESSING THE MODEL...\"\n",
    "\n",
    "# CALCULATING PERFORMANCE ON DEVELOPMENT SAMPLE\n",
    "from scipy.stats import spearmanr\n",
    "spearman_correlation= spearmanr(dftarget, y_pred)\n",
    "print \"Spearman Rank Correlation = \", spearman_correlation"
   ]
  },
  {
   "cell_type": "code",
   "execution_count": null,
   "metadata": {
    "collapsed": true
   },
   "outputs": [],
   "source": []
  }
 ],
 "metadata": {
  "anaconda-cloud": {},
  "kernelspec": {
   "display_name": "Python [conda root]",
   "language": "python",
   "name": "conda-root-py"
  },
  "language_info": {
   "codemirror_mode": {
    "name": "ipython",
    "version": 2
   },
   "file_extension": ".py",
   "mimetype": "text/x-python",
   "name": "python",
   "nbconvert_exporter": "python",
   "pygments_lexer": "ipython2",
   "version": "2.7.12"
  }
 },
 "nbformat": 4,
 "nbformat_minor": 1
}
